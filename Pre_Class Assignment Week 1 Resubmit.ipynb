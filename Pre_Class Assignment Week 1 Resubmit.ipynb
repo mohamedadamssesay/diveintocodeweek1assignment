{
 "cells": [
  {
   "cell_type": "markdown",
   "metadata": {},
   "source": [
    "### [PROBLEM 1] CREATE USING THE EXPONENTATION ARITHMETIC OPERATOR"
   ]
  },
  {
   "cell_type": "code",
   "execution_count": null,
   "metadata": {},
   "outputs": [],
   "source": [
    "THICKNESS = 0.00008\n",
    "\n",
    "n_folded = 43 \n",
    "\n",
    "folded_thickness = THICKNESS*(2**n_folded)\n",
    "\n",
    "print(\"thickness: {} Meters\".format(folded_thickness))\n",
    " "
   ]
  },
  {
   "cell_type": "markdown",
   "metadata": {},
   "source": [
    "### [PROBLEM 2]  UNIT CONVERSION"
   ]
  },
  {
   "cell_type": "code",
   "execution_count": null,
   "metadata": {},
   "outputs": [],
   "source": [
    "#Convert meter into kilo meter\n",
    "THICKNESS = 1000\n",
    "folded_thickness = THICKNESS*1000\n",
    "print(\"thickness:{: .2f}km\".format(folded_thickness/10000))\n"
   ]
  },
  {
   "cell_type": "markdown",
   "metadata": {},
   "source": [
    "### [PROBLEM 3] CREATE USING A FOR STATEMENT"
   ]
  },
  {
   "cell_type": "code",
   "execution_count": null,
   "metadata": {},
   "outputs": [],
   "source": [
    "def paper (num_folder=43, THICKNESS =0.00008):\n",
    "for i in range (1, num_fold + 1):\n",
    "thickness = thickness *2*2*2*2*2*2*2*2*2*2*2*2*2*2*2*2*2*2*2*2*2*2*2*2*2*2*2*2*2*2*2*2*2*2*2*2*2*2*2*2*2*2*2\n",
    "print(\"thickness: {} meters\".format (thickness))\n",
    "if thicknes >= 10000\n",
    "#convert to kilometer\n",
    "print (\"thickness :{:.2f}km\".format(thickness/10000))\n",
    "else:\n",
    "#convert to meter\n",
    "print(\"thickness:{:.2f}meter\".format(thickness/10000))"
   ]
  },
  {
   "cell_type": "markdown",
   "metadata": {},
   "source": [
    "### [PROBLEM 4] COMPARISION OF CALCULATION TIME"
   ]
  },
  {
   "cell_type": "code",
   "execution_count": null,
   "metadata": {},
   "outputs": [],
   "source": [
    "import time\n",
    "\n",
    "start = time.time()\n",
    "THICKNESS = 0.00008\n",
    "folded_thickness = THICKNESS *2**43\n",
    "print(\"thickness: {} meters\".format(folded_thickness))\n",
    "elapsed_time =time.time() - start\n",
    "print (\"time : {} sec\".format(elapsed_time))\n"
   ]
  },
  {
   "cell_type": "code",
   "execution_count": null,
   "metadata": {},
   "outputs": [],
   "source": [
    "%%timeit\n",
    "folded_thickness =THICKNESS *2**43\n",
    "folded_thickness"
   ]
  },
  {
   "cell_type": "markdown",
   "metadata": {},
   "source": [
    "### [PROBLEM 5] SAVING TO A LIST"
   ]
  },
  {
   "cell_type": "code",
   "execution_count": null,
   "metadata": {},
   "outputs": [],
   "source": [
    "#Creating an empty list\n",
    "list 1 = [0.00008]\n",
    "fold_num = 43\n",
    "thickness = 0.00008\n",
    "\n",
    "#folded_thickness=\n",
    "for i in range (1, fold_num +1):\n",
    "    folded_thickness = thickness*2**i\n",
    "    \n",
    "#Add value to the list\n",
    "    list1.append(folded_thickness)\n",
    "    print(len(list1))"
   ]
  },
  {
   "cell_type": "markdown",
   "metadata": {},
   "source": [
    "### [PROBLEM 6] DISPLAYING A LINE GRAPH"
   ]
  },
  {
   "cell_type": "code",
   "execution_count": null,
   "metadata": {},
   "outputs": [],
   "source": [
    "import matplotlib.pyplot as plt\n",
    "#%matplotlib.pyplot inline\n",
    "\n",
    "plt.title (\"thickness of folded paper\")\n",
    "plt.xlabel(\"number of folds\")\n",
    "plt.ylabel(\"thickness{M}\")\n",
    "plt.tick_params(label1size=10)\n",
    "plt.plot(list1)\n",
    "ply.show()\n"
   ]
  },
  {
   "cell_type": "markdown",
   "metadata": {},
   "source": [
    "### THE THICKNESS INCREASES WHEN THE NUMBER OF FOLDS INCREASES\n"
   ]
  },
  {
   "cell_type": "markdown",
   "metadata": {},
   "source": [
    "### [PROBLEM 7] CUSTOMIZING GRAPHS"
   ]
  },
  {
   "cell_type": "code",
   "execution_count": null,
   "metadata": {},
   "outputs": [],
   "source": [
    "plt.title (\"thickness of folded paper\")\n",
    "plt.xlabel(\"number of folds\")\n",
    "plt.ylabel(\"thickness{M}\")\n",
    "#Changing line style and color\n",
    "plt.plot(list1, linewidth =3,0, color ='red')\n",
    "plt.tick_params(label1size=20)\n",
    "plt.figure(figuresize=(38, 20)) \n",
    "ply.show()"
   ]
  },
  {
   "cell_type": "code",
   "execution_count": null,
   "metadata": {},
   "outputs": [],
   "source": []
  }
 ],
 "metadata": {
  "kernelspec": {
   "display_name": "Python 3",
   "language": "python",
   "name": "python3"
  },
  "language_info": {
   "codemirror_mode": {
    "name": "ipython",
    "version": 3
   },
   "file_extension": ".py",
   "mimetype": "text/x-python",
   "name": "python",
   "nbconvert_exporter": "python",
   "pygments_lexer": "ipython3",
   "version": "3.8.5"
  }
 },
 "nbformat": 4,
 "nbformat_minor": 4
}
